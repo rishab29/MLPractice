{
 "cells": [
  {
   "cell_type": "code",
   "execution_count": 3,
   "metadata": {},
   "outputs": [],
   "source": [
    "import numpy as np\n",
    "import matplotlib.pyplot as plt\n",
    "import pandas as pd"
   ]
  },
  {
   "cell_type": "code",
   "execution_count": 45,
   "metadata": {},
   "outputs": [
    {
     "name": "stdout",
     "output_type": "stream",
     "text": [
      "[1, 2]\n",
      "[2, 3]\n"
     ]
    }
   ],
   "source": [
    "X=[1,2]\n",
    "print(X)\n",
    "Y=[2,3]\n",
    "print(Y)"
   ]
  },
  {
   "cell_type": "code",
   "execution_count": 46,
   "metadata": {},
   "outputs": [],
   "source": [
    "Z=X+Y"
   ]
  },
  {
   "cell_type": "code",
   "execution_count": 47,
   "metadata": {},
   "outputs": [
    {
     "name": "stdout",
     "output_type": "stream",
     "text": [
      "[1, 2, 2, 3]\n"
     ]
    }
   ],
   "source": [
    "print(Z)"
   ]
  },
  {
   "cell_type": "code",
   "execution_count": 48,
   "metadata": {},
   "outputs": [
    {
     "name": "stdout",
     "output_type": "stream",
     "text": [
      "[4 6]\n",
      "[4 6]\n",
      "10\n"
     ]
    }
   ],
   "source": [
    "X=np.array([1,2])\n",
    "Y=np.array([3,4])\n",
    "D=X+Y\n",
    "E=np.add(X,Y)\n",
    "F=np.sum(X+Y)\n",
    "print(D)\n",
    "print(E)\n",
    "print(F)"
   ]
  },
  {
   "cell_type": "code",
   "execution_count": 49,
   "metadata": {},
   "outputs": [
    {
     "name": "stdout",
     "output_type": "stream",
     "text": [
      "2.8284271247461903\n"
     ]
    }
   ],
   "source": [
    "#calculate the eucledian distance between the numpy arrays\n",
    "X=np.array([1,2])\n",
    "Y=np.array([3,4])\n",
    "(X-Y)**2\n",
    "distance=np.sqrt(np.sum((X-Y)**2))\n",
    "print(distance)"
   ]
  },
  {
   "cell_type": "code",
   "execution_count": 60,
   "metadata": {},
   "outputs": [
    {
     "name": "stdout",
     "output_type": "stream",
     "text": [
      "1\n",
      "1\n",
      "(2,)\n",
      "(2,)\n",
      "(2,)\n",
      "1\n",
      "[1 2]\n"
     ]
    }
   ],
   "source": [
    "#multiplication of numpy arrays\n",
    "X=np.array([1,2])\n",
    "Y=np.array([3,4])\n",
    "print(X.ndim)\n",
    "print(Y.ndim)\n",
    "print(X.shape)\n",
    "print(Y.shape)\n",
    "# the transpositon does not work on 1d array\n",
    "print(X.shape)\n",
    "print(X.ndim)\n",
    "print(X)"
   ]
  },
  {
   "cell_type": "code",
   "execution_count": 77,
   "metadata": {},
   "outputs": [
    {
     "name": "stdout",
     "output_type": "stream",
     "text": [
      "[[1 2 3]\n",
      " [2 4 3]]\n",
      "[list([1, 2, 3]) list([[2, 3]])]\n"
     ]
    }
   ],
   "source": [
    "# if we give same dimensons then we get a matrix but if we give a different dimensions then we get a list at each index\n",
    "X=np.array([[1,2,3],[2,4,3]])\n",
    "Y=np.array([[1,2,3],[[2,3]]])\n",
    "print(X)\n",
    "print(Y)"
   ]
  },
  {
   "cell_type": "code",
   "execution_count": 78,
   "metadata": {},
   "outputs": [
    {
     "data": {
      "text/plain": [
       "[1, 2, 3, [2, 3]]"
      ]
     },
     "execution_count": 78,
     "metadata": {},
     "output_type": "execute_result"
    }
   ],
   "source": [
    "# we can only perform the simple add operation in list\n",
    "Y[0]+Y[1]"
   ]
  },
  {
   "cell_type": "code",
   "execution_count": 7,
   "metadata": {},
   "outputs": [
    {
     "data": {
      "text/plain": [
       "array([[ 6,  8],\n",
       "       [10, 12]])"
      ]
     },
     "execution_count": 7,
     "metadata": {},
     "output_type": "execute_result"
    }
   ],
   "source": [
    "X=np.array([[1,2],[3,4]])\n",
    "Y=np.array([[5,6],[7,8]])\n",
    "np.add(X,Y)"
   ]
  },
  {
   "cell_type": "code",
   "execution_count": 9,
   "metadata": {},
   "outputs": [
    {
     "data": {
      "text/plain": [
       "array([[-4, -4],\n",
       "       [-4, -4]])"
      ]
     },
     "execution_count": 9,
     "metadata": {},
     "output_type": "execute_result"
    }
   ],
   "source": [
    "X=np.array([[1,2],[3,4]])\n",
    "Y=np.array([[5,6],[7,8]])\n",
    "np.subtract(X,Y)"
   ]
  },
  {
   "cell_type": "code",
   "execution_count": 12,
   "metadata": {},
   "outputs": [
    {
     "data": {
      "text/plain": [
       "array([[ 5, 12],\n",
       "       [21, 32]])"
      ]
     },
     "execution_count": 12,
     "metadata": {},
     "output_type": "execute_result"
    }
   ],
   "source": [
    "X=np.array([[1,2],[3,4]])\n",
    "Y=np.array([[5,6],[7,8]])\n",
    "np.multiply(X,Y)"
   ]
  },
  {
   "cell_type": "code",
   "execution_count": 19,
   "metadata": {},
   "outputs": [
    {
     "name": "stdout",
     "output_type": "stream",
     "text": [
      "[[1 3]\n",
      " [2 4]]\n",
      "[[1 2]\n",
      " [3 4]]\n",
      "[[5 6]\n",
      " [7 8]]\n"
     ]
    }
   ],
   "source": [
    "print(X.T)\n",
    "print(X)\n",
    "print(Y)"
   ]
  },
  {
   "cell_type": "code",
   "execution_count": 18,
   "metadata": {},
   "outputs": [
    {
     "data": {
      "text/plain": [
       "array([[19, 22],\n",
       "       [43, 50]])"
      ]
     },
     "execution_count": 18,
     "metadata": {},
     "output_type": "execute_result"
    }
   ],
   "source": [
    "np.dot(X,Y)"
   ]
  },
  {
   "cell_type": "code",
   "execution_count": 20,
   "metadata": {},
   "outputs": [
    {
     "data": {
      "text/plain": [
       "array([[19, 22],\n",
       "       [43, 50]])"
      ]
     },
     "execution_count": 20,
     "metadata": {},
     "output_type": "execute_result"
    }
   ],
   "source": [
    "X.dot(Y)"
   ]
  },
  {
   "cell_type": "code",
   "execution_count": 21,
   "metadata": {},
   "outputs": [
    {
     "name": "stdout",
     "output_type": "stream",
     "text": [
      "[[1 2]\n",
      " [3 4]]\n",
      "[[5 6]\n",
      " [7 8]]\n"
     ]
    }
   ],
   "source": [
    "print(X)\n",
    "print(Y)"
   ]
  },
  {
   "cell_type": "code",
   "execution_count": 31,
   "metadata": {},
   "outputs": [
    {
     "name": "stdout",
     "output_type": "stream",
     "text": [
      "[0.02851235 0.24554619 0.71961315 0.7662381  0.61797083]\n"
     ]
    }
   ],
   "source": [
    "X=np.random.rand(5)\n",
    "print(X)"
   ]
  },
  {
   "cell_type": "code",
   "execution_count": 34,
   "metadata": {},
   "outputs": [
    {
     "name": "stdout",
     "output_type": "stream",
     "text": [
      "[[0.55100637 0.30105894 0.48922208 0.58980931 0.24847384]\n",
      " [0.71926139 0.15361941 0.85203426 0.32710313 0.19813273]\n",
      " [0.75811096 0.33035473 0.93080279 0.32740067 0.77299512]\n",
      " [0.25366245 0.1731196  0.22420002 0.26231996 0.51361464]\n",
      " [0.25918666 0.9968324  0.29007758 0.78603683 0.53560033]]\n"
     ]
    }
   ],
   "source": [
    "#it makes a nd array of given dimnsion in tuple\n",
    "X=np.random.rand(5,5)\n",
    "print(X)"
   ]
  },
  {
   "cell_type": "code",
   "execution_count": null,
   "metadata": {},
   "outputs": [],
   "source": []
  },
  {
   "cell_type": "code",
   "execution_count": 44,
   "metadata": {},
   "outputs": [
    {
     "name": "stdout",
     "output_type": "stream",
     "text": [
      "[[0.78902958 0.26869242 0.1724024 ]\n",
      " [0.57936171 0.88887003 0.96959645]]\n",
      "[[10.05971541 10.23441336 10.2734266 ]\n",
      " [10.99195793 10.3902859  10.52519099]]\n"
     ]
    }
   ],
   "source": [
    "X=np.random.sample((2,3))\n",
    "print(X)\n",
    "X=np.random.sample((2,3))+10\n",
    "print(X)"
   ]
  },
  {
   "cell_type": "code",
   "execution_count": 53,
   "metadata": {},
   "outputs": [
    {
     "data": {
      "text/plain": [
       "array([[1, 1],\n",
       "       [1, 0],\n",
       "       [0, 0]])"
      ]
     },
     "execution_count": 53,
     "metadata": {},
     "output_type": "execute_result"
    }
   ],
   "source": [
    "#it will return the nd array of given shape where range of int is between 0 and given int in this case between 0 and 2\n",
    "np.random.randint(2,size=(3,2))"
   ]
  },
  {
   "cell_type": "code",
   "execution_count": 54,
   "metadata": {},
   "outputs": [
    {
     "name": "stdout",
     "output_type": "stream",
     "text": [
      "[[0.93921927 0.93470094 0.22064743]\n",
      " [0.12761372 0.29284062 0.91625187]]\n",
      "[[10.7554411  10.93314681 10.37021111]\n",
      " [10.5338672  10.3648724  10.48996539]]\n"
     ]
    }
   ],
   "source": [
    "X=np.random.random_sample((2,3))\n",
    "print(X)\n",
    "X=np.random.random_sample((2,3))+10\n",
    "print(X)"
   ]
  },
  {
   "cell_type": "code",
   "execution_count": 55,
   "metadata": {},
   "outputs": [],
   "source": [
    "plt.scatter?"
   ]
  },
  {
   "cell_type": "code",
   "execution_count": 62,
   "metadata": {},
   "outputs": [
    {
     "name": "stdout",
     "output_type": "stream",
     "text": [
      "0\n",
      "6\n",
      "7\n"
     ]
    }
   ],
   "source": [
    "X=np.array([1,2,3,4,5,6,7])\n",
    "print(np.argmin(X))\n",
    "print(np.argmax(X))\n",
    "print(np.max(X))\n",
    "print(np.maximum?"
   ]
  },
  {
   "cell_type": "code",
   "execution_count": null,
   "metadata": {},
   "outputs": [],
   "source": []
  }
 ],
 "metadata": {
  "kernelspec": {
   "display_name": "Python 3",
   "language": "python",
   "name": "python3"
  },
  "language_info": {
   "codemirror_mode": {
    "name": "ipython",
    "version": 3
   },
   "file_extension": ".py",
   "mimetype": "text/x-python",
   "name": "python",
   "nbconvert_exporter": "python",
   "pygments_lexer": "ipython3",
   "version": "3.7.0"
  }
 },
 "nbformat": 4,
 "nbformat_minor": 2
}
