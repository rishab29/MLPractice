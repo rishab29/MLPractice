{
 "cells": [
  {
   "cell_type": "code",
   "execution_count": 44,
   "metadata": {},
   "outputs": [],
   "source": [
    "import numpy as np\n",
    "import matplotlib.pyplot as plt\n",
    "import pandas as pd"
   ]
  },
  {
   "cell_type": "code",
   "execution_count": 45,
   "metadata": {},
   "outputs": [
    {
     "name": "stdout",
     "output_type": "stream",
     "text": [
      "[1, 2]\n",
      "[2, 3]\n"
     ]
    }
   ],
   "source": [
    "X=[1,2]\n",
    "print(X)\n",
    "Y=[2,3]\n",
    "print(Y)"
   ]
  },
  {
   "cell_type": "code",
   "execution_count": 46,
   "metadata": {},
   "outputs": [],
   "source": [
    "Z=X+Y"
   ]
  },
  {
   "cell_type": "code",
   "execution_count": 47,
   "metadata": {},
   "outputs": [
    {
     "name": "stdout",
     "output_type": "stream",
     "text": [
      "[1, 2, 2, 3]\n"
     ]
    }
   ],
   "source": [
    "print(Z)"
   ]
  },
  {
   "cell_type": "code",
   "execution_count": 48,
   "metadata": {},
   "outputs": [
    {
     "name": "stdout",
     "output_type": "stream",
     "text": [
      "[4 6]\n",
      "[4 6]\n",
      "10\n"
     ]
    }
   ],
   "source": [
    "X=np.array([1,2])\n",
    "Y=np.array([3,4])\n",
    "D=X+Y\n",
    "E=np.add(X,Y)\n",
    "F=np.sum(X+Y)\n",
    "print(D)\n",
    "print(E)\n",
    "print(F)"
   ]
  },
  {
   "cell_type": "code",
   "execution_count": 49,
   "metadata": {},
   "outputs": [
    {
     "name": "stdout",
     "output_type": "stream",
     "text": [
      "2.8284271247461903\n"
     ]
    }
   ],
   "source": [
    "#calculate the eucledian distance between the numpy arrays\n",
    "X=np.array([1,2])\n",
    "Y=np.array([3,4])\n",
    "(X-Y)**2\n",
    "distance=np.sqrt(np.sum((X-Y)**2))\n",
    "print(distance)"
   ]
  },
  {
   "cell_type": "code",
   "execution_count": 60,
   "metadata": {},
   "outputs": [
    {
     "name": "stdout",
     "output_type": "stream",
     "text": [
      "1\n",
      "1\n",
      "(2,)\n",
      "(2,)\n",
      "(2,)\n",
      "1\n",
      "[1 2]\n"
     ]
    }
   ],
   "source": [
    "#multiplication of numpy arrays\n",
    "X=np.array([1,2])\n",
    "Y=np.array([3,4])\n",
    "print(X.ndim)\n",
    "print(Y.ndim)\n",
    "print(X.shape)\n",
    "print(Y.shape)\n",
    "# the transpositon does not work on 1d array\n",
    "print(X.shape)\n",
    "print(X.ndim)\n",
    "print(X)"
   ]
  },
  {
   "cell_type": "code",
   "execution_count": 77,
   "metadata": {},
   "outputs": [
    {
     "name": "stdout",
     "output_type": "stream",
     "text": [
      "[[1 2 3]\n",
      " [2 4 3]]\n",
      "[list([1, 2, 3]) list([[2, 3]])]\n"
     ]
    }
   ],
   "source": [
    "# if we give same dimensons then we get a matrix but if we give a different dimensions then we get a list at each index\n",
    "X=np.array([[1,2,3],[2,4,3]])\n",
    "Y=np.array([[1,2,3],[[2,3]]])\n",
    "print(X)\n",
    "print(Y)"
   ]
  },
  {
   "cell_type": "code",
   "execution_count": 78,
   "metadata": {},
   "outputs": [
    {
     "data": {
      "text/plain": [
       "[1, 2, 3, [2, 3]]"
      ]
     },
     "execution_count": 78,
     "metadata": {},
     "output_type": "execute_result"
    }
   ],
   "source": [
    "# we can only perform the simple add operation in list\n",
    "Y[0]+Y[1]"
   ]
  },
  {
   "cell_type": "code",
   "execution_count": null,
   "metadata": {},
   "outputs": [],
   "source": []
  },
  {
   "cell_type": "code",
   "execution_count": null,
   "metadata": {},
   "outputs": [],
   "source": []
  }
 ],
 "metadata": {
  "kernelspec": {
   "display_name": "Python 3",
   "language": "python",
   "name": "python3"
  },
  "language_info": {
   "codemirror_mode": {
    "name": "ipython",
    "version": 3
   },
   "file_extension": ".py",
   "mimetype": "text/x-python",
   "name": "python",
   "nbconvert_exporter": "python",
   "pygments_lexer": "ipython3",
   "version": "3.7.0"
  }
 },
 "nbformat": 4,
 "nbformat_minor": 2
}
